{
 "cells": [
  {
   "cell_type": "code",
   "execution_count": 1,
   "id": "e5f054ad-a56f-480e-be43-518b7e484ec2",
   "metadata": {},
   "outputs": [
    {
     "name": "stderr",
     "output_type": "stream",
     "text": [
      "Some weights of DistilBertForSequenceClassification were not initialized from the model checkpoint at distilbert-base-uncased and are newly initialized: ['classifier.bias', 'classifier.weight', 'pre_classifier.bias', 'pre_classifier.weight']\n",
      "You should probably TRAIN this model on a down-stream task to be able to use it for predictions and inference.\n"
     ]
    },
    {
     "name": "stdout",
     "output_type": "stream",
     "text": [
      "LoRA Fine-tuned Model Loaded Successfully!\n"
     ]
    }
   ],
   "source": [
    "import torch\n",
    "from transformers import AutoModelForSequenceClassification, AutoTokenizer\n",
    "from peft import PeftModel\n",
    "\n",
    "# Define paths\n",
    "MODEL_CHECKPOINT = 'distilbert-base-uncased'\n",
    "SAVED_MODEL_PATH = \"bank_fineuned_model.pt\"\n",
    "\n",
    "# Load the tokenizer\n",
    "tokenizer = AutoTokenizer.from_pretrained(MODEL_CHECKPOINT)\n",
    "\n",
    "# Load base model\n",
    "base_model = AutoModelForSequenceClassification.from_pretrained(\n",
    "    MODEL_CHECKPOINT,\n",
    "    num_labels=7  # Adjust this based on your training labels\n",
    ")\n",
    "\n",
    "# Load LoRA fine-tuned model\n",
    "model = PeftModel.from_pretrained(base_model, SAVED_MODEL_PATH)\n",
    "\n",
    "# Move to device (CPU/GPU)\n",
    "device = \"cuda\" if torch.cuda.is_available() else \"cpu\"\n",
    "model.to(device)\n",
    "\n",
    "print(\"LoRA Fine-tuned Model Loaded Successfully!\")"
   ]
  },
  {
   "cell_type": "code",
   "execution_count": 2,
   "id": "fa19ac94-9256-45d3-ad56-ad0aceef3575",
   "metadata": {},
   "outputs": [],
   "source": [
    "def predict(model, tokenizer, id2label, text_list, device=\"cuda\" if torch.cuda.is_available() else \"cpu\"):\n",
    "    model.to(device)\n",
    "    model.eval()  # Set the model to evaluation mode\n",
    "\n",
    "    print(\"Trained Model Predictions:\")\n",
    "    print(\"--------------------------\")\n",
    "    \n",
    "    for text in text_list:\n",
    "        inputs = tokenizer(text, return_tensors=\"pt\", truncation=True, max_length=512)\n",
    "        inputs = {key: val.to(device) for key, val in inputs.items()}  # Move input tensors to the correct device\n",
    "        \n",
    "        with torch.no_grad():  # Disable gradient computation for inference\n",
    "            logits = model(**inputs).logits\n",
    "        \n",
    "        predictions = torch.argmax(logits, dim=1).item()\n",
    "        print(f\"{text} - {id2label[predictions]}\")"
   ]
  },
  {
   "cell_type": "code",
   "execution_count": 4,
   "id": "13426eb6-413b-49c9-8a3f-6ae937130abb",
   "metadata": {},
   "outputs": [],
   "source": [
    "id2label = {0: \"ACCOUNT\", 1: \"ATM\", 2:\"CARD\", 3:\"CONTACT\", 4:\"FEES\", 5:\"LOAN\", 6:\"TRANSFER\"}\n",
    "label2id = {\"ACCOUNT\":0, \"ATM\":1, \"CARD\":2, \"CONTACT\":3, \"FEES\":4, \"LOAN\":5, \"TRANSFER\":6}"
   ]
  },
  {
   "cell_type": "code",
   "execution_count": 5,
   "id": "6cff1016-0813-49ec-8e01-77153d46e77e",
   "metadata": {},
   "outputs": [
    {
     "name": "stdout",
     "output_type": "stream",
     "text": [
      "Trained Model Predictions:\n",
      "--------------------------\n",
      "What is the eligibility criteria for a home loan - LOAN\n",
      "How to apply for a credit card - CARD\n",
      "What is the process of getting a loan approved. - LOAN\n",
      "Can I get a loan - LOAN\n",
      "I want to transfer money - TRANSFER\n"
     ]
    }
   ],
   "source": [
    "text_samples = [\n",
    "    \"What is the eligibility criteria for a home loan\",\n",
    "    \"How to apply for a credit card\",\n",
    "    \"What is the process of getting a loan approved.\",\n",
    "    \"Can I get a loan\",\n",
    "    \"I want to transfer money\"\n",
    "]\n",
    "\n",
    "predict(model, tokenizer, id2label, text_samples, device)"
   ]
  },
  {
   "cell_type": "code",
   "execution_count": null,
   "id": "2d0eecf5-9684-4072-9c8b-715e9ada5ec1",
   "metadata": {},
   "outputs": [],
   "source": []
  }
 ],
 "metadata": {
  "kernelspec": {
   "display_name": "Python 3 (ipykernel)",
   "language": "python",
   "name": "python3"
  },
  "language_info": {
   "codemirror_mode": {
    "name": "ipython",
    "version": 3
   },
   "file_extension": ".py",
   "mimetype": "text/x-python",
   "name": "python",
   "nbconvert_exporter": "python",
   "pygments_lexer": "ipython3",
   "version": "3.10.0rc2"
  }
 },
 "nbformat": 4,
 "nbformat_minor": 5
}
