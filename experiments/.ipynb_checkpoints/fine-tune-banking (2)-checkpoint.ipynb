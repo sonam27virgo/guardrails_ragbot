{
 "cells": [
  {
   "cell_type": "code",
   "execution_count": 1,
   "id": "ba9ec460-0596-49a7-ab4c-3f6ccf36e1d2",
   "metadata": {},
   "outputs": [],
   "source": [
    "# Fine Tuning Example Banking"
   ]
  },
  {
   "cell_type": "code",
   "execution_count": 2,
   "id": "f0c593b1-4938-4e38-867c-9dd48fe92cc4",
   "metadata": {},
   "outputs": [],
   "source": [
    "from datasets import load_dataset, DatasetDict, Dataset\n",
    "import datasets\n",
    "\n",
    "from transformers import (\n",
    "    AutoTokenizer,\n",
    "    AutoConfig, \n",
    "    AutoModelForSequenceClassification,\n",
    "    DataCollatorWithPadding,\n",
    "    TrainingArguments,\n",
    "    Trainer)\n",
    "\n",
    "from peft import PeftModel, PeftConfig, get_peft_model, LoraConfig\n",
    "import evaluate\n",
    "import torch\n",
    "import numpy as np"
   ]
  },
  {
   "cell_type": "code",
   "execution_count": 3,
   "id": "33a6bd88-8d65-4e1f-80fd-c386e4ef3fe8",
   "metadata": {},
   "outputs": [],
   "source": [
    "# Get data"
   ]
  },
  {
   "cell_type": "code",
   "execution_count": 4,
   "id": "02e19f8f-e90b-48d7-b31a-d7ff6eb54661",
   "metadata": {},
   "outputs": [
    {
     "name": "stdout",
     "output_type": "stream",
     "text": [
      "(25545, 5)\n"
     ]
    }
   ],
   "source": [
    "import pandas as pd\n",
    "\n",
    "df = pd.read_parquet(\"hf://datasets/bitext/Bitext-retail-banking-llm-chatbot-training-dataset/bitext-retail-banking-llm-chatbot-training-dataset.parquet\")\n",
    "print (df.shape)"
   ]
  },
  {
   "cell_type": "code",
   "execution_count": 5,
   "id": "f35b4266-f52e-4cc8-8a44-f34862b5b103",
   "metadata": {},
   "outputs": [
    {
     "data": {
      "text/html": [
       "<div>\n",
       "<style scoped>\n",
       "    .dataframe tbody tr th:only-of-type {\n",
       "        vertical-align: middle;\n",
       "    }\n",
       "\n",
       "    .dataframe tbody tr th {\n",
       "        vertical-align: top;\n",
       "    }\n",
       "\n",
       "    .dataframe thead th {\n",
       "        text-align: right;\n",
       "    }\n",
       "</style>\n",
       "<table border=\"1\" class=\"dataframe\">\n",
       "  <thead>\n",
       "    <tr style=\"text-align: right;\">\n",
       "      <th></th>\n",
       "      <th>tags</th>\n",
       "      <th>instruction</th>\n",
       "      <th>category</th>\n",
       "      <th>intent</th>\n",
       "      <th>response</th>\n",
       "    </tr>\n",
       "  </thead>\n",
       "  <tbody>\n",
       "    <tr>\n",
       "      <th>0</th>\n",
       "      <td>BCIPZ</td>\n",
       "      <td>I would like to acivate a card, can you help me?</td>\n",
       "      <td>CARD</td>\n",
       "      <td>activate_card</td>\n",
       "      <td>I'm here to assist you with that! Activating y...</td>\n",
       "    </tr>\n",
       "    <tr>\n",
       "      <th>1</th>\n",
       "      <td>BCILZ</td>\n",
       "      <td>I have to activate an Visa online, how can I d...</td>\n",
       "      <td>CARD</td>\n",
       "      <td>activate_card</td>\n",
       "      <td>I'm here to assist you with activating your {{...</td>\n",
       "    </tr>\n",
       "  </tbody>\n",
       "</table>\n",
       "</div>"
      ],
      "text/plain": [
       "    tags                                        instruction category  \\\n",
       "0  BCIPZ   I would like to acivate a card, can you help me?     CARD   \n",
       "1  BCILZ  I have to activate an Visa online, how can I d...     CARD   \n",
       "\n",
       "          intent                                           response  \n",
       "0  activate_card  I'm here to assist you with that! Activating y...  \n",
       "1  activate_card  I'm here to assist you with activating your {{...  "
      ]
     },
     "execution_count": 5,
     "metadata": {},
     "output_type": "execute_result"
    }
   ],
   "source": [
    "df.head(2)"
   ]
  },
  {
   "cell_type": "code",
   "execution_count": 6,
   "id": "d13af4ac-0c42-4476-b048-0b0c81f14c41",
   "metadata": {},
   "outputs": [
    {
     "name": "stdout",
     "output_type": "stream",
     "text": [
      "Index(['tags', 'instruction', 'category', 'intent', 'response'], dtype='object')\n"
     ]
    }
   ],
   "source": [
    "print (df.columns)"
   ]
  },
  {
   "cell_type": "code",
   "execution_count": 7,
   "id": "332675c2-cd4f-4aac-a694-ad7e408e7c50",
   "metadata": {},
   "outputs": [],
   "source": [
    "df = df.rename({'instruction': 'text'}, axis=1)"
   ]
  },
  {
   "cell_type": "code",
   "execution_count": 8,
   "id": "2bbb4a0f-e868-44f8-92b0-40959102238e",
   "metadata": {},
   "outputs": [
    {
     "name": "stdout",
     "output_type": "stream",
     "text": [
      "Index(['tags', 'text', 'category', 'intent', 'response'], dtype='object')\n"
     ]
    }
   ],
   "source": [
    "print (df.columns)"
   ]
  },
  {
   "cell_type": "code",
   "execution_count": 9,
   "id": "320d7f7a-99c9-4402-9d8f-9eae18833edf",
   "metadata": {},
   "outputs": [
    {
     "name": "stderr",
     "output_type": "stream",
     "text": [
      "/var/folders/j4/j54mgf517392nbm37428ldb40000gn/T/ipykernel_50899/1846209727.py:1: DeprecationWarning: DataFrameGroupBy.apply operated on the grouping columns. This behavior is deprecated, and in a future version of pandas the grouping columns will be excluded from the operation. Either pass `include_groups=False` to exclude the groupings or explicitly select the grouping columns after groupby to silence this warning.\n",
      "  df_new = df.groupby(\"category\").apply(lambda x: x.sample(frac=0.1, random_state=42)).reset_index(drop=True)\n"
     ]
    }
   ],
   "source": [
    "df_new = df.groupby(\"category\").apply(lambda x: x.sample(frac=0.1, random_state=42)).reset_index(drop=True)\n",
    "columns_required = ['text', 'category']\n",
    "df_new = df_new[df_new['category'].isin(['CARD', 'LOAN', 'TRANSFER', 'FEES', 'ACCOUNT', 'CONTACT', 'ATM'])][columns_required].reset_index()"
   ]
  },
  {
   "cell_type": "code",
   "execution_count": 10,
   "id": "2784f956-1c65-484e-9a2d-72e321e38e16",
   "metadata": {},
   "outputs": [
    {
     "data": {
      "text/plain": [
       "array(['ACCOUNT', 'ATM', 'CARD', 'CONTACT', 'FEES', 'LOAN', 'TRANSFER'],\n",
       "      dtype=object)"
      ]
     },
     "execution_count": 10,
     "metadata": {},
     "output_type": "execute_result"
    }
   ],
   "source": [
    "df_new['category'].unique()"
   ]
  },
  {
   "cell_type": "code",
   "execution_count": 11,
   "id": "a7654032-1889-4b09-bf85-34d9a4418c5f",
   "metadata": {},
   "outputs": [
    {
     "data": {
      "text/plain": [
       "(2184, 3)"
      ]
     },
     "execution_count": 11,
     "metadata": {},
     "output_type": "execute_result"
    }
   ],
   "source": [
    "df_new.shape"
   ]
  },
  {
   "cell_type": "code",
   "execution_count": 12,
   "id": "b3823d98-04f8-40b8-810d-6368b70d647d",
   "metadata": {},
   "outputs": [],
   "source": [
    "# preprocess dataframe\n",
    "\n",
    "from sklearn.preprocessing import LabelEncoder\n",
    "\n",
    "labels = list(df_new['category'].unique())\n",
    "\n",
    "label_encoder = LabelEncoder()\n",
    "encoded_labels = label_encoder.fit_transform(labels)\n",
    "\n",
    "df_new[\"label\"] = label_encoder.fit_transform(df_new[\"category\"])"
   ]
  },
  {
   "cell_type": "code",
   "execution_count": 13,
   "id": "4566c136-9f8b-4af8-a8bf-e3e835883d26",
   "metadata": {},
   "outputs": [],
   "source": [
    "from sklearn.model_selection import train_test_split\n",
    "\n",
    "X = ['text']\n",
    "Y = ['label']\n",
    "\n",
    "xtrain, xtest, ytrain, ytest = train_test_split(df_new[X], df_new[Y], test_size=0.2, stratify = df_new[Y], random_state=42)\n",
    "\n",
    "xtrain['label'] = ytrain\n",
    "xtest['label'] = ytest\n",
    "\n",
    "xtrain = xtrain.reset_index()\n",
    "xtest = xtest.reset_index()\n",
    "\n",
    "xtrain = xtrain.drop('index', axis=1)\n",
    "xtest = xtest.drop('index', axis=1)\n",
    "\n",
    "train_dataset = Dataset.from_pandas(xtrain)\n",
    "test_dataset = Dataset.from_pandas(xtest)\n",
    "\n",
    "\n",
    "dataset = datasets.DatasetDict({\"train\":train_dataset,\"validation\":test_dataset})"
   ]
  },
  {
   "cell_type": "code",
   "execution_count": 14,
   "id": "670fe7db-3074-4452-923d-7da16afaabe7",
   "metadata": {},
   "outputs": [],
   "source": [
    "# dataset = Dataset.from_pandas(df_new)"
   ]
  },
  {
   "cell_type": "code",
   "execution_count": 15,
   "id": "c5df5151-c33d-45bf-be06-32a8b5132f95",
   "metadata": {},
   "outputs": [
    {
     "data": {
      "text/html": [
       "<div>\n",
       "<style scoped>\n",
       "    .dataframe tbody tr th:only-of-type {\n",
       "        vertical-align: middle;\n",
       "    }\n",
       "\n",
       "    .dataframe tbody tr th {\n",
       "        vertical-align: top;\n",
       "    }\n",
       "\n",
       "    .dataframe thead th {\n",
       "        text-align: right;\n",
       "    }\n",
       "</style>\n",
       "<table border=\"1\" class=\"dataframe\">\n",
       "  <thead>\n",
       "    <tr style=\"text-align: right;\">\n",
       "      <th></th>\n",
       "      <th>text</th>\n",
       "      <th>label</th>\n",
       "    </tr>\n",
       "  </thead>\n",
       "  <tbody>\n",
       "    <tr>\n",
       "      <th>0</th>\n",
       "      <td>need to see the mortgage payments</td>\n",
       "      <td>5</td>\n",
       "    </tr>\n",
       "    <tr>\n",
       "      <th>1</th>\n",
       "      <td>I have to dispute a transaction, can I get som...</td>\n",
       "      <td>1</td>\n",
       "    </tr>\n",
       "    <tr>\n",
       "      <th>2</th>\n",
       "      <td>i want help to activate an visa on mobile</td>\n",
       "      <td>2</td>\n",
       "    </tr>\n",
       "    <tr>\n",
       "      <th>3</th>\n",
       "      <td>I would like to cancel a Master Card online, I...</td>\n",
       "      <td>2</td>\n",
       "    </tr>\n",
       "    <tr>\n",
       "      <th>4</th>\n",
       "      <td>can  you help me to apply for a mortgage?</td>\n",
       "      <td>5</td>\n",
       "    </tr>\n",
       "    <tr>\n",
       "      <th>...</th>\n",
       "      <td>...</td>\n",
       "      <td>...</td>\n",
       "    </tr>\n",
       "    <tr>\n",
       "      <th>1742</th>\n",
       "      <td>can uhelp me to take out a loan</td>\n",
       "      <td>5</td>\n",
       "    </tr>\n",
       "    <tr>\n",
       "      <th>1743</th>\n",
       "      <td>wanma see my account fees can i get some help</td>\n",
       "      <td>4</td>\n",
       "    </tr>\n",
       "    <tr>\n",
       "      <th>1744</th>\n",
       "      <td>my master card has been stolen can i lock it</td>\n",
       "      <td>2</td>\n",
       "    </tr>\n",
       "    <tr>\n",
       "      <th>1745</th>\n",
       "      <td>I have to cancel a account, how can I do it?</td>\n",
       "      <td>0</td>\n",
       "    </tr>\n",
       "    <tr>\n",
       "      <th>1746</th>\n",
       "      <td>need to  cancel a card</td>\n",
       "      <td>2</td>\n",
       "    </tr>\n",
       "  </tbody>\n",
       "</table>\n",
       "<p>1747 rows × 2 columns</p>\n",
       "</div>"
      ],
      "text/plain": [
       "                                                   text  label\n",
       "0                     need to see the mortgage payments      5\n",
       "1     I have to dispute a transaction, can I get som...      1\n",
       "2             i want help to activate an visa on mobile      2\n",
       "3     I would like to cancel a Master Card online, I...      2\n",
       "4             can  you help me to apply for a mortgage?      5\n",
       "...                                                 ...    ...\n",
       "1742                    can uhelp me to take out a loan      5\n",
       "1743      wanma see my account fees can i get some help      4\n",
       "1744       my master card has been stolen can i lock it      2\n",
       "1745       I have to cancel a account, how can I do it?      0\n",
       "1746                             need to  cancel a card      2\n",
       "\n",
       "[1747 rows x 2 columns]"
      ]
     },
     "execution_count": 15,
     "metadata": {},
     "output_type": "execute_result"
    }
   ],
   "source": [
    "xtrain"
   ]
  },
  {
   "cell_type": "code",
   "execution_count": 16,
   "id": "7893810f-7a8f-4d72-8a30-1c1db31a42a1",
   "metadata": {},
   "outputs": [
    {
     "data": {
      "text/plain": [
       "DatasetDict({\n",
       "    train: Dataset({\n",
       "        features: ['text', 'label'],\n",
       "        num_rows: 1747\n",
       "    })\n",
       "    validation: Dataset({\n",
       "        features: ['text', 'label'],\n",
       "        num_rows: 437\n",
       "    })\n",
       "})"
      ]
     },
     "execution_count": 16,
     "metadata": {},
     "output_type": "execute_result"
    }
   ],
   "source": [
    "dataset"
   ]
  },
  {
   "cell_type": "code",
   "execution_count": 17,
   "id": "c9f9d3c9-df74-4a4b-b86f-16613281679d",
   "metadata": {},
   "outputs": [
    {
     "name": "stderr",
     "output_type": "stream",
     "text": [
      "Some weights of DistilBertForSequenceClassification were not initialized from the model checkpoint at distilbert-base-uncased and are newly initialized: ['classifier.bias', 'classifier.weight', 'pre_classifier.bias', 'pre_classifier.weight']\n",
      "You should probably TRAIN this model on a down-stream task to be able to use it for predictions and inference.\n"
     ]
    }
   ],
   "source": [
    "model_checkpoint = 'distilbert-base-uncased'\n",
    "# model_checkpoint = 'roberta-base' # you can alternatively use roberta-base but this model is bigger thus training will take longer\n",
    "\n",
    "# define label maps\n",
    "id2label = {0: \"ACCOUNT\", 1: \"ATM\", 2:\"CARD\", 3:\"CONTACT\", 4:\"FEES\", 5:\"LOAN\", 6:\"TRANSFER\"}\n",
    "label2id = {\"ACCOUNT\":0, \"ATM\":1, \"CARD\":2, \"CONTACT\":3, \"FEES\":4, \"LOAN\":5, \"TRANSFER\":6}\n",
    "\n",
    "# generate classification model from model_checkpoint\n",
    "model = AutoModelForSequenceClassification.from_pretrained(\n",
    "    model_checkpoint, num_labels=7, id2label=id2label, label2id=label2id)"
   ]
  },
  {
   "cell_type": "code",
   "execution_count": 18,
   "id": "323d7033-1fc0-4d3e-bc2a-db2205fa28ba",
   "metadata": {},
   "outputs": [],
   "source": [
    "tokenizer = AutoTokenizer.from_pretrained(model_checkpoint, add_prefix_space=True)\n",
    "\n",
    "# add pad token if none exists\n",
    "if tokenizer.pad_token is None:\n",
    "    tokenizer.add_special_tokens({'pad_token': '[PAD]'})\n",
    "    model.resize_token_embeddings(len(tokenizer))"
   ]
  },
  {
   "cell_type": "code",
   "execution_count": 19,
   "id": "e0292339-cdf0-4e73-b802-642451ba2585",
   "metadata": {},
   "outputs": [],
   "source": [
    "def tokenize_function(examples):\n",
    "    # extract text\n",
    "    text = examples[\"text\"]\n",
    "\n",
    "    #tokenize and truncate text\n",
    "    tokenizer.truncation_side = \"left\"\n",
    "    tokenized_inputs = tokenizer(\n",
    "        text,\n",
    "        return_tensors=\"np\",\n",
    "        truncation=True,\n",
    "        max_length=512\n",
    "    )\n",
    "\n",
    "    return tokenized_inputs"
   ]
  },
  {
   "cell_type": "code",
   "execution_count": 20,
   "id": "2f515e27-547d-4646-83e4-6c8c3dc3ef86",
   "metadata": {},
   "outputs": [
    {
     "data": {
      "application/vnd.jupyter.widget-view+json": {
       "model_id": "e3f51908361e424882401c3112f38129",
       "version_major": 2,
       "version_minor": 0
      },
      "text/plain": [
       "Map:   0%|          | 0/1747 [00:00<?, ? examples/s]"
      ]
     },
     "metadata": {},
     "output_type": "display_data"
    },
    {
     "data": {
      "application/vnd.jupyter.widget-view+json": {
       "model_id": "17a2e3a7ea1443009dd1283c667ac33c",
       "version_major": 2,
       "version_minor": 0
      },
      "text/plain": [
       "Map:   0%|          | 0/437 [00:00<?, ? examples/s]"
      ]
     },
     "metadata": {},
     "output_type": "display_data"
    },
    {
     "data": {
      "text/plain": [
       "DatasetDict({\n",
       "    train: Dataset({\n",
       "        features: ['text', 'label', 'input_ids', 'attention_mask'],\n",
       "        num_rows: 1747\n",
       "    })\n",
       "    validation: Dataset({\n",
       "        features: ['text', 'label', 'input_ids', 'attention_mask'],\n",
       "        num_rows: 437\n",
       "    })\n",
       "})"
      ]
     },
     "execution_count": 20,
     "metadata": {},
     "output_type": "execute_result"
    }
   ],
   "source": [
    "# tokenize training and validation datasets\n",
    "tokenized_dataset = dataset.map(tokenize_function, batched=True)\n",
    "tokenized_dataset\n"
   ]
  },
  {
   "cell_type": "code",
   "execution_count": 21,
   "id": "519686b5-d8d1-453f-8342-aa7bb11f0c51",
   "metadata": {},
   "outputs": [],
   "source": [
    "data_collator = DataCollatorWithPadding(tokenizer=tokenizer)\n"
   ]
  },
  {
   "cell_type": "code",
   "execution_count": 22,
   "id": "42c3dc5c-c6a3-4e67-8f89-d3a8346470ca",
   "metadata": {},
   "outputs": [],
   "source": [
    "accuracy = evaluate.load(\"accuracy\")"
   ]
  },
  {
   "cell_type": "code",
   "execution_count": 23,
   "id": "08a8976c-9282-49f2-9a5f-f8a04581efad",
   "metadata": {},
   "outputs": [],
   "source": [
    "def compute_metrics(p):\n",
    "    predictions, labels = p\n",
    "    predictions = np.argmax(predictions, axis=1)\n",
    "\n",
    "    return {\"accuracy\": accuracy.compute(predictions=predictions, references=labels)}"
   ]
  },
  {
   "cell_type": "code",
   "execution_count": 24,
   "id": "b4040707-d089-40a9-8ced-45a6dbb33349",
   "metadata": {},
   "outputs": [
    {
     "name": "stdout",
     "output_type": "stream",
     "text": [
      "Untrained model predictions:\n",
      "----------------------------\n",
      "What is the eligibility criteria for a home loan - CARD\n",
      "How to apply for credit card - FEES\n",
      "What is the process of getting loan approved. - CARD\n",
      "Can I get a loan - FEES\n",
      "I want to transfer money - CARD\n"
     ]
    }
   ],
   "source": [
    "text_list = [\"What is the eligibility criteria for a home loan\", \"How to apply for credit card\", \"What is the process of getting loan approved.\", \"Can I get a loan\", \"I want to transfer money\"]\n",
    "\n",
    "print(\"Untrained model predictions:\")\n",
    "print(\"----------------------------\")\n",
    "for text in text_list:\n",
    "    # tokenize text\n",
    "    inputs = tokenizer.encode(text, return_tensors=\"pt\")\n",
    "    # compute logits\n",
    "    logits = model(inputs).logits\n",
    "    # convert logits to label\n",
    "    predictions = torch.argmax(logits)\n",
    "\n",
    "    print(text + \" - \" + id2label[predictions.tolist()])"
   ]
  },
  {
   "cell_type": "code",
   "execution_count": 25,
   "id": "3836299c-d0a8-4157-969b-2efff6916fc2",
   "metadata": {},
   "outputs": [],
   "source": [
    "peft_config = LoraConfig(task_type=\"SEQ_CLS\",\n",
    "                        r=4,\n",
    "                        lora_alpha=32,\n",
    "                        lora_dropout=0.01,\n",
    "                        target_modules = ['q_lin'])"
   ]
  },
  {
   "cell_type": "code",
   "execution_count": 26,
   "id": "afc74329-dd2f-4810-95aa-a9fe4a4dee9d",
   "metadata": {},
   "outputs": [
    {
     "name": "stdout",
     "output_type": "stream",
     "text": [
      "trainable params: 632,839 || all params: 67,591,694 || trainable%: 0.9363\n"
     ]
    }
   ],
   "source": [
    "model = get_peft_model(model, peft_config)\n",
    "model.print_trainable_parameters()"
   ]
  },
  {
   "cell_type": "code",
   "execution_count": 27,
   "id": "9420d55f-b417-4d59-904a-e6116ea1dc13",
   "metadata": {},
   "outputs": [],
   "source": [
    "lr = 1e-3\n",
    "batch_size = 4\n",
    "num_epochs = 5"
   ]
  },
  {
   "cell_type": "code",
   "execution_count": 28,
   "id": "2129e3a7-8e42-49fc-8704-41d6d2fd8f65",
   "metadata": {},
   "outputs": [
    {
     "name": "stderr",
     "output_type": "stream",
     "text": [
      "/Library/Frameworks/Python.framework/Versions/3.12/lib/python3.12/site-packages/transformers/training_args.py:1575: FutureWarning: `evaluation_strategy` is deprecated and will be removed in version 4.46 of 🤗 Transformers. Use `eval_strategy` instead\n",
      "  warnings.warn(\n"
     ]
    }
   ],
   "source": [
    "training_args = TrainingArguments(\n",
    "    output_dir= model_checkpoint + \"-lora-text-classification\",\n",
    "    learning_rate=lr,\n",
    "    per_device_train_batch_size=batch_size,\n",
    "    per_device_eval_batch_size=batch_size,\n",
    "    num_train_epochs=num_epochs,\n",
    "    weight_decay=0.01,\n",
    "    evaluation_strategy=\"epoch\",\n",
    "    save_strategy=\"epoch\",\n",
    "    load_best_model_at_end=True,\n",
    ")"
   ]
  },
  {
   "cell_type": "code",
   "execution_count": 29,
   "id": "10f99374-6462-4b13-856a-af191a283607",
   "metadata": {},
   "outputs": [
    {
     "name": "stderr",
     "output_type": "stream",
     "text": [
      "/var/folders/j4/j54mgf517392nbm37428ldb40000gn/T/ipykernel_50899/4078124689.py:1: FutureWarning: `tokenizer` is deprecated and will be removed in version 5.0.0 for `Trainer.__init__`. Use `processing_class` instead.\n",
      "  trainer = Trainer(\n"
     ]
    },
    {
     "data": {
      "text/html": [
       "\n",
       "    <div>\n",
       "      \n",
       "      <progress value='2185' max='2185' style='width:300px; height:20px; vertical-align: middle;'></progress>\n",
       "      [2185/2185 02:13, Epoch 5/5]\n",
       "    </div>\n",
       "    <table border=\"1\" class=\"dataframe\">\n",
       "  <thead>\n",
       " <tr style=\"text-align: left;\">\n",
       "      <th>Epoch</th>\n",
       "      <th>Training Loss</th>\n",
       "      <th>Validation Loss</th>\n",
       "      <th>Accuracy</th>\n",
       "    </tr>\n",
       "  </thead>\n",
       "  <tbody>\n",
       "    <tr>\n",
       "      <td>1</td>\n",
       "      <td>No log</td>\n",
       "      <td>0.057838</td>\n",
       "      <td>{'accuracy': 0.9816933638443935}</td>\n",
       "    </tr>\n",
       "    <tr>\n",
       "      <td>2</td>\n",
       "      <td>0.243300</td>\n",
       "      <td>0.046114</td>\n",
       "      <td>{'accuracy': 0.9839816933638444}</td>\n",
       "    </tr>\n",
       "    <tr>\n",
       "      <td>3</td>\n",
       "      <td>0.039600</td>\n",
       "      <td>0.054895</td>\n",
       "      <td>{'accuracy': 0.9839816933638444}</td>\n",
       "    </tr>\n",
       "    <tr>\n",
       "      <td>4</td>\n",
       "      <td>0.020500</td>\n",
       "      <td>0.046321</td>\n",
       "      <td>{'accuracy': 0.9839816933638444}</td>\n",
       "    </tr>\n",
       "    <tr>\n",
       "      <td>5</td>\n",
       "      <td>0.008400</td>\n",
       "      <td>0.038865</td>\n",
       "      <td>{'accuracy': 0.9862700228832952}</td>\n",
       "    </tr>\n",
       "  </tbody>\n",
       "</table><p>"
      ],
      "text/plain": [
       "<IPython.core.display.HTML object>"
      ]
     },
     "metadata": {},
     "output_type": "display_data"
    },
    {
     "data": {
      "text/plain": [
       "TrainOutput(global_step=2185, training_loss=0.07174713663432909, metrics={'train_runtime': 133.6958, 'train_samples_per_second': 65.335, 'train_steps_per_second': 16.343, 'total_flos': 42235168207056.0, 'train_loss': 0.07174713663432909, 'epoch': 5.0})"
      ]
     },
     "execution_count": 29,
     "metadata": {},
     "output_type": "execute_result"
    }
   ],
   "source": [
    "trainer = Trainer(\n",
    "    model=model,\n",
    "    args=training_args,\n",
    "    train_dataset=tokenized_dataset[\"train\"],\n",
    "    eval_dataset=tokenized_dataset[\"validation\"],\n",
    "    tokenizer=tokenizer,\n",
    "    data_collator=data_collator, # this will dynamically pad examples in each batch to be equal length\n",
    "    compute_metrics=compute_metrics,\n",
    ")\n",
    "\n",
    "# train model\n",
    "trainer.train()"
   ]
  },
  {
   "cell_type": "code",
   "execution_count": 30,
   "id": "44a22083-ca12-4732-96e0-eccbb9d03b41",
   "metadata": {},
   "outputs": [
    {
     "name": "stdout",
     "output_type": "stream",
     "text": [
      "Trained model predictions:\n",
      "--------------------------\n",
      "What is the eligibility criteria for a home loan - LOAN\n",
      "How to apply for credit card - CARD\n",
      "What is the process of getting loan approved. - LOAN\n",
      "Can I get a loan - LOAN\n",
      "I want to transfer money - TRANSFER\n"
     ]
    }
   ],
   "source": [
    "model.to('mps') # moving to mps for Mac (can alternatively do 'cpu')\n",
    "\n",
    "print(\"Trained model predictions:\")\n",
    "print(\"--------------------------\")\n",
    "for text in text_list:\n",
    "    inputs = tokenizer.encode(text, return_tensors=\"pt\").to(\"mps\") # moving to mps for Mac (can alternatively do 'cpu')\n",
    "\n",
    "    logits = model(inputs).logits\n",
    "    predictions = torch.max(logits,1).indices\n",
    "\n",
    "    print(text + \" - \" + id2label[predictions.tolist()[0]])"
   ]
  },
  {
   "cell_type": "code",
   "execution_count": 36,
   "id": "a5b79d7c-5abb-478b-a8c8-adc3525f1bd1",
   "metadata": {},
   "outputs": [],
   "source": [
    "model.save_pretrained(\"bank_fineuned_model.pt\")\n",
    "# tokenizer.save_pretrained()"
   ]
  },
  {
   "cell_type": "code",
   "execution_count": 37,
   "id": "e5f054ad-a56f-480e-be43-518b7e484ec2",
   "metadata": {},
   "outputs": [
    {
     "name": "stderr",
     "output_type": "stream",
     "text": [
      "Some weights of DistilBertForSequenceClassification were not initialized from the model checkpoint at distilbert-base-uncased and are newly initialized: ['classifier.bias', 'classifier.weight', 'pre_classifier.bias', 'pre_classifier.weight']\n",
      "You should probably TRAIN this model on a down-stream task to be able to use it for predictions and inference.\n"
     ]
    },
    {
     "name": "stdout",
     "output_type": "stream",
     "text": [
      "LoRA Fine-tuned Model Loaded Successfully!\n"
     ]
    }
   ],
   "source": [
    "import torch\n",
    "from transformers import AutoModelForSequenceClassification, AutoTokenizer\n",
    "from peft import PeftModel\n",
    "\n",
    "# Define paths\n",
    "MODEL_CHECKPOINT = 'distilbert-base-uncased'\n",
    "SAVED_MODEL_PATH = \"bank_fineuned_model.pt\"\n",
    "\n",
    "# Load the tokenizer\n",
    "tokenizer = AutoTokenizer.from_pretrained(MODEL_CHECKPOINT)\n",
    "\n",
    "# Load base model\n",
    "base_model = AutoModelForSequenceClassification.from_pretrained(\n",
    "    MODEL_CHECKPOINT,\n",
    "    num_labels=7  # Adjust this based on your training labels\n",
    ")\n",
    "\n",
    "# Load LoRA fine-tuned model\n",
    "model = PeftModel.from_pretrained(base_model, SAVED_MODEL_PATH)\n",
    "\n",
    "# Move to device (CPU/GPU)\n",
    "device = \"cuda\" if torch.cuda.is_available() else \"cpu\"\n",
    "model.to(device)\n",
    "\n",
    "print(\"LoRA Fine-tuned Model Loaded Successfully!\")\n"
   ]
  },
  {
   "cell_type": "code",
   "execution_count": 39,
   "id": "fa19ac94-9256-45d3-ad56-ad0aceef3575",
   "metadata": {},
   "outputs": [],
   "source": [
    "def predict(model, tokenizer, id2label, text_list, device=\"cuda\" if torch.cuda.is_available() else \"cpu\"):\n",
    "    model.to(device)\n",
    "    model.eval()  # Set the model to evaluation mode\n",
    "\n",
    "    print(\"Trained Model Predictions:\")\n",
    "    print(\"--------------------------\")\n",
    "    \n",
    "    for text in text_list:\n",
    "        inputs = tokenizer(text, return_tensors=\"pt\", truncation=True, max_length=512)\n",
    "        inputs = {key: val.to(device) for key, val in inputs.items()}  # Move input tensors to the correct device\n",
    "        \n",
    "        with torch.no_grad():  # Disable gradient computation for inference\n",
    "            logits = model(**inputs).logits\n",
    "        \n",
    "        predictions = torch.argmax(logits, dim=1).item()\n",
    "        print(f\"{text} - {id2label[predictions]}\")"
   ]
  },
  {
   "cell_type": "code",
   "execution_count": 38,
   "id": "6cff1016-0813-49ec-8e01-77153d46e77e",
   "metadata": {},
   "outputs": [
    {
     "ename": "NameError",
     "evalue": "name 'predict' is not defined",
     "output_type": "error",
     "traceback": [
      "\u001b[0;31m---------------------------------------------------------------------------\u001b[0m",
      "\u001b[0;31mNameError\u001b[0m                                 Traceback (most recent call last)",
      "Cell \u001b[0;32mIn[38], line 9\u001b[0m\n\u001b[1;32m      1\u001b[0m text_samples \u001b[38;5;241m=\u001b[39m [\n\u001b[1;32m      2\u001b[0m     \u001b[38;5;124m\"\u001b[39m\u001b[38;5;124mWhat is the eligibility criteria for a home loan\u001b[39m\u001b[38;5;124m\"\u001b[39m,\n\u001b[1;32m      3\u001b[0m     \u001b[38;5;124m\"\u001b[39m\u001b[38;5;124mHow to apply for a credit card\u001b[39m\u001b[38;5;124m\"\u001b[39m,\n\u001b[0;32m   (...)\u001b[0m\n\u001b[1;32m      6\u001b[0m     \u001b[38;5;124m\"\u001b[39m\u001b[38;5;124mI want to transfer money\u001b[39m\u001b[38;5;124m\"\u001b[39m\n\u001b[1;32m      7\u001b[0m ]\n\u001b[0;32m----> 9\u001b[0m \u001b[43mpredict\u001b[49m(model, tokenizer, id2label, text_samples, device)\n",
      "\u001b[0;31mNameError\u001b[0m: name 'predict' is not defined"
     ]
    }
   ],
   "source": [
    "text_samples = [\n",
    "    \"What is the eligibility criteria for a home loan\",\n",
    "    \"How to apply for a credit card\",\n",
    "    \"What is the process of getting a loan approved.\",\n",
    "    \"Can I get a loan\",\n",
    "    \"I want to transfer money\"\n",
    "]\n",
    "\n",
    "predict(model, tokenizer, id2label, text_samples, device)\n"
   ]
  },
  {
   "cell_type": "code",
   "execution_count": null,
   "id": "2d0eecf5-9684-4072-9c8b-715e9ada5ec1",
   "metadata": {},
   "outputs": [],
   "source": []
  }
 ],
 "metadata": {
  "kernelspec": {
   "display_name": "Python 3 (ipykernel)",
   "language": "python",
   "name": "python3"
  },
  "language_info": {
   "codemirror_mode": {
    "name": "ipython",
    "version": 3
   },
   "file_extension": ".py",
   "mimetype": "text/x-python",
   "name": "python",
   "nbconvert_exporter": "python",
   "pygments_lexer": "ipython3",
   "version": "3.12.7"
  }
 },
 "nbformat": 4,
 "nbformat_minor": 5
}
